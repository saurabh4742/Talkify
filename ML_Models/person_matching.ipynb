{
 "cells": [
  {
   "cell_type": "code",
   "execution_count": null,
   "metadata": {},
   "outputs": [],
   "source": [
    "from fastapi import FastAPI, HTTPException\n",
    "from pydantic import BaseModel\n",
    "from sklearn.neighbors import NearestNeighbors\n",
    "from sklearn.preprocessing import MinMaxScaler\n",
    "import numpy as np\n",
    "\n",
    "app = FastAPI()\n",
    "\n",
    "\n",
    "user_data = np.array([\n",
    "    [1, 2],\n",
    "    [1, 1], \n",
    "    [2, 3], \n",
    "    [3, 1],  \n",
    "    [2, 2]  \n",
    "])\n",
    "\n",
    "# Corresponding user IDs\n",
    "user_ids = np.array([101, 102, 103, 104, 105])\n",
    "\n",
    "\n",
    "scaler = MinMaxScaler()\n",
    "user_data_scaled = scaler.fit_transform(user_data)\n",
    "\n",
    "# Initialize the KNN model\n",
    "knn = NearestNeighbors(n_neighbors=1)\n",
    "knn.fit(user_data_scaled)\n",
    "\n",
    "class UserPreferences(BaseModel):\n",
    "    country: int\n",
    "    hobby: int\n",
    "\n",
    "@app.post(\"/recommend/\")\n",
    "async def recommend_user(user_preferences: UserPreferences):\n",
    "    new_user = np.array([[user_preferences.country, user_preferences.hobby]]) \n",
    "    new_user_scaled = scaler.transform(new_user)\n",
    "    _, indices = knn.kneighbors(new_user_scaled)\n",
    "    recommended_user_id = user_ids[indices[0][0]]\n",
    "    return {\"recommended_user_id\": recommended_user_id}"
   ]
  }
 ],
 "metadata": {
  "language_info": {
   "name": "python"
  }
 },
 "nbformat": 4,
 "nbformat_minor": 2
}
